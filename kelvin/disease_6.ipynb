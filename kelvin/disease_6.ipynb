{
 "cells": [
  {
   "cell_type": "code",
   "execution_count": 15,
   "metadata": {},
   "outputs": [],
   "source": [
    "import tensorflow as tf\n",
    "from tensorflow.keras.models import Sequential\n",
    "from tensorflow.keras.layers import Dense, Dropout, GlobalAveragePooling2D, BatchNormalization\n",
    "from tensorflow.keras.preprocessing.image import ImageDataGenerator\n",
    "from sklearn.metrics import classification_report, confusion_matrix\n",
    "import pandas as pd\n",
    "import numpy as np\n",
    "import matplotlib.pyplot as plt\n",
    "from tensorflow.keras.callbacks import ReduceLROnPlateau, EarlyStopping"
   ]
  },
  {
   "cell_type": "code",
   "execution_count": 2,
   "metadata": {},
   "outputs": [],
   "source": [
    "# Define file paths\n",
    "train_metadata_path = 'C:/Users/kelvi/Documents/Tensorflow/workspace_3/data/PV train.csv'\n",
    "test_seen_metadata_path= 'C:/Users/kelvi/Documents/Tensorflow/workspace_3/data/PV test seen.csv'\n",
    "test_unseen_metadata_path  = 'C:/Users/kelvi/Documents/Tensorflow/workspace_3/data/PV test unseen.csv'\n",
    "pd_test_unseen_metadata_path = 'C:/Users/kelvi/Documents/Tensorflow/workspace_3/data/PD test unseen.csv'\n",
    "\n",
    "# Load datasets\n",
    "train_metadata = pd.read_csv(train_metadata_path)\n",
    "test_seen_metadata = pd.read_csv(test_seen_metadata_path)\n",
    "test_unseen_metadata = pd.read_csv(test_unseen_metadata_path)\n",
    "pd_test_unseen_metadata = pd.read_csv(pd_test_unseen_metadata_path)\n",
    "\n",
    "# Define image folder paths\n",
    "plantvillage_dir = 'C:/Users/kelvi/Documents/Tensorflow/workspace_3/data/plantvillage'\n",
    "plantdoc_dir  = 'C:/Users/kelvi/Documents/Tensorflow/workspace_3/data/plantdoc'"
   ]
  },
  {
   "cell_type": "code",
   "execution_count": 3,
   "metadata": {},
   "outputs": [],
   "source": [
    "# Define image dimensions\n",
    "IMG_HEIGHT = 299\n",
    "IMG_WIDTH = 299\n",
    "IMG_CHANNELS = 3  # RGB images\n",
    "BATCH_SIZE = 32"
   ]
  },
  {
   "cell_type": "code",
   "execution_count": 4,
   "metadata": {},
   "outputs": [],
   "source": [
    "# Rename columns to make them consistent\n",
    "train_metadata.columns = ['image_file_name', 'crop_category', 'disease_category']\n",
    "test_seen_metadata.columns = ['image_file_name', 'crop_category', 'disease_category']\n",
    "test_unseen_metadata.columns = ['image_file_name', 'crop_category', 'disease_category']\n",
    "pd_test_unseen_metadata.columns = ['image_file_name', 'crop_category', 'disease_category']"
   ]
  },
  {
   "cell_type": "code",
   "execution_count": 5,
   "metadata": {},
   "outputs": [],
   "source": [
    "# Use only the crop category as the label for classification\n",
    "train_metadata['label'] = train_metadata['disease_category'].astype(str)\n",
    "test_seen_metadata['label'] = test_seen_metadata['disease_category'].astype(str)\n",
    "test_unseen_metadata['label'] = test_unseen_metadata['disease_category'].astype(str)\n",
    "pd_test_unseen_metadata['label'] = pd_test_unseen_metadata['disease_category'].astype(str)"
   ]
  },
  {
   "cell_type": "code",
   "execution_count": 6,
   "metadata": {},
   "outputs": [],
   "source": [
    "# Data Augmentation for Training Data\n",
    "train_data_gen = ImageDataGenerator(\n",
    "    rescale=1.0 / 255.0,\n",
    "    rotation_range=30,\n",
    "    width_shift_range=0.2,\n",
    "    height_shift_range=0.2,\n",
    "    shear_range=0.2,\n",
    "    zoom_range=0.2,\n",
    "    brightness_range=[0.7, 1.3],\n",
    "    horizontal_flip=True,\n",
    "    fill_mode='nearest'\n",
    ")"
   ]
  },
  {
   "cell_type": "code",
   "execution_count": 7,
   "metadata": {},
   "outputs": [],
   "source": [
    "# Testing Data Generator (only rescale, no augmentation)\n",
    "test_data_gen = ImageDataGenerator(rescale=1.0 / 255.0)"
   ]
  },
  {
   "cell_type": "code",
   "execution_count": 8,
   "metadata": {},
   "outputs": [],
   "source": [
    "# Function to generate data from a DataFrame\n",
    "def dataframe_generator(df, base_dir, target_size, batch_size, data_gen, class_mode, label_column):\n",
    "    return data_gen.flow_from_dataframe(\n",
    "        dataframe=df,\n",
    "        directory=base_dir,\n",
    "        x_col='image_file_name',\n",
    "        y_col=label_column,\n",
    "        target_size=target_size,\n",
    "        batch_size=batch_size,\n",
    "        class_mode=class_mode,\n",
    "        shuffle=True\n",
    "    )"
   ]
  },
  {
   "cell_type": "code",
   "execution_count": 9,
   "metadata": {},
   "outputs": [
    {
     "name": "stdout",
     "output_type": "stream",
     "text": [
      "Found 38993 validated image filenames belonging to 21 classes.\n",
      "Found 10278 validated image filenames belonging to 21 classes.\n",
      "Found 215 validated image filenames belonging to 1 classes.\n",
      "Found 70 validated image filenames belonging to 1 classes.\n"
     ]
    }
   ],
   "source": [
    "# Generate training and testing data\n",
    "train_data = dataframe_generator(train_metadata, plantvillage_dir, (IMG_HEIGHT, IMG_WIDTH), BATCH_SIZE, train_data_gen, 'categorical', 'label')\n",
    "pv_test_seen_data = dataframe_generator(test_seen_metadata, plantvillage_dir, (IMG_HEIGHT, IMG_WIDTH), BATCH_SIZE, test_data_gen, 'categorical', 'label')\n",
    "pv_test_unseen_data = dataframe_generator(test_unseen_metadata, plantvillage_dir, (IMG_HEIGHT, IMG_WIDTH), BATCH_SIZE, test_data_gen, 'categorical', 'label')\n",
    "pd_test_unseen_data = dataframe_generator(pd_test_unseen_metadata, plantdoc_dir, (IMG_HEIGHT, IMG_WIDTH), BATCH_SIZE, test_data_gen, 'categorical', 'label')"
   ]
  },
  {
   "cell_type": "code",
   "execution_count": 10,
   "metadata": {},
   "outputs": [],
   "source": [
    "# Define the number of classes\n",
    "num_classes = len(train_data.class_indices)"
   ]
  },
  {
   "cell_type": "code",
   "execution_count": 11,
   "metadata": {},
   "outputs": [],
   "source": [
    "# Section 4: Model Construction and Compilation (Updated)\n",
    "\n",
    "from tensorflow.keras import Sequential, Input\n",
    "from tensorflow.keras.layers import Conv2D, MaxPooling2D, Flatten, Dense, Dropout\n",
    "from tensorflow.keras.optimizers import Adam\n",
    "from tensorflow.keras.callbacks import ModelCheckpoint, EarlyStopping\n",
    "# Define the CNN model architecture\n",
    "def build_cnn_model(input_shape=(299, 299, 3), num_classes=num_classes):\n",
    "    model = Sequential([\n",
    "        Input(shape=input_shape),\n",
    "        Conv2D(32, (3, 3), activation='relu'),\n",
    "        MaxPooling2D(pool_size=(2, 2)),\n",
    "        Conv2D(64, (3, 3), activation='relu'),\n",
    "        MaxPooling2D(pool_size=(2, 2)),\n",
    "        Conv2D(128, (3, 3), activation='relu'),\n",
    "        MaxPooling2D(pool_size=(2, 2)),\n",
    "        Flatten(),\n",
    "        Dense(256, activation='relu'),\n",
    "        Dropout(0.5),\n",
    "        Dense(num_classes, activation='softmax')\n",
    "    ])\n",
    "    return model"
   ]
  },
  {
   "cell_type": "code",
   "execution_count": 12,
   "metadata": {},
   "outputs": [],
   "source": [
    "# Initialize and compile the model\n",
    "cnn_model = build_cnn_model(input_shape=(299, 299, 3), num_classes=num_classes)\n",
    "cnn_model.compile(optimizer=tf.keras.optimizers.Adam(0.001), \n",
    "                  loss='categorical_crossentropy', \n",
    "                  metrics=['accuracy'])"
   ]
  },
  {
   "cell_type": "code",
   "execution_count": 16,
   "metadata": {},
   "outputs": [],
   "source": [
    "# Callbacks for learning rate adjustment and early stopping\n",
    "reduce_lr = ReduceLROnPlateau(monitor='val_loss', factor=0.5, patience=2, min_lr=1e-7, verbose=1)\n",
    "early_stop = EarlyStopping(monitor='val_loss', patience=4, restore_best_weights=True)"
   ]
  },
  {
   "cell_type": "code",
   "execution_count": 17,
   "metadata": {},
   "outputs": [
    {
     "name": "stdout",
     "output_type": "stream",
     "text": [
      "Epoch 1/15\n",
      "1218/1218 [==============================] - 541s 436ms/step - loss: 1.8578 - accuracy: 0.4511 - val_loss: 0.9601 - val_accuracy: 0.6992 - lr: 0.0010\n",
      "Epoch 2/15\n",
      "1218/1218 [==============================] - 514s 422ms/step - loss: 1.1479 - accuracy: 0.6345 - val_loss: 0.7063 - val_accuracy: 0.7736 - lr: 0.0010\n",
      "Epoch 3/15\n",
      "1218/1218 [==============================] - 526s 431ms/step - loss: 0.8815 - accuracy: 0.7105 - val_loss: 0.5861 - val_accuracy: 0.8173 - lr: 0.0010\n",
      "Epoch 4/15\n",
      "1218/1218 [==============================] - 524s 430ms/step - loss: 0.7481 - accuracy: 0.7566 - val_loss: 0.3690 - val_accuracy: 0.8828 - lr: 0.0010\n",
      "Epoch 5/15\n",
      "1218/1218 [==============================] - 495s 407ms/step - loss: 0.6670 - accuracy: 0.7816 - val_loss: 0.3444 - val_accuracy: 0.8839 - lr: 0.0010\n",
      "Epoch 6/15\n",
      "1218/1218 [==============================] - 498s 409ms/step - loss: 0.5895 - accuracy: 0.8085 - val_loss: 0.3175 - val_accuracy: 0.8982 - lr: 0.0010\n",
      "Epoch 7/15\n",
      "1218/1218 [==============================] - 504s 414ms/step - loss: 0.5488 - accuracy: 0.8228 - val_loss: 0.3667 - val_accuracy: 0.8875 - lr: 0.0010\n",
      "Epoch 8/15\n",
      "1218/1218 [==============================] - 501s 411ms/step - loss: 0.5061 - accuracy: 0.8369 - val_loss: 0.2428 - val_accuracy: 0.9222 - lr: 0.0010\n",
      "Epoch 9/15\n",
      "1218/1218 [==============================] - 488s 401ms/step - loss: 0.4905 - accuracy: 0.8444 - val_loss: 0.2476 - val_accuracy: 0.9246 - lr: 0.0010\n",
      "Epoch 10/15\n",
      "1218/1218 [==============================] - ETA: 0s - loss: 0.4530 - accuracy: 0.8530\n",
      "Epoch 10: ReduceLROnPlateau reducing learning rate to 0.0005000000237487257.\n",
      "1218/1218 [==============================] - 488s 401ms/step - loss: 0.4530 - accuracy: 0.8530 - val_loss: 0.2585 - val_accuracy: 0.9189 - lr: 0.0010\n",
      "Epoch 11/15\n",
      "1218/1218 [==============================] - 474s 389ms/step - loss: 0.3544 - accuracy: 0.8868 - val_loss: 0.1701 - val_accuracy: 0.9492 - lr: 5.0000e-04\n",
      "Epoch 12/15\n",
      "1218/1218 [==============================] - 471s 387ms/step - loss: 0.3302 - accuracy: 0.8926 - val_loss: 0.2080 - val_accuracy: 0.9345 - lr: 5.0000e-04\n",
      "Epoch 13/15\n",
      "1218/1218 [==============================] - 480s 394ms/step - loss: 0.3168 - accuracy: 0.8970 - val_loss: 0.1535 - val_accuracy: 0.9525 - lr: 5.0000e-04\n",
      "Epoch 14/15\n",
      "1218/1218 [==============================] - 491s 403ms/step - loss: 0.3117 - accuracy: 0.9006 - val_loss: 0.2163 - val_accuracy: 0.9324 - lr: 5.0000e-04\n",
      "Epoch 15/15\n",
      "1218/1218 [==============================] - ETA: 0s - loss: 0.2972 - accuracy: 0.9036\n",
      "Epoch 15: ReduceLROnPlateau reducing learning rate to 0.0002500000118743628.\n",
      "1218/1218 [==============================] - 492s 404ms/step - loss: 0.2972 - accuracy: 0.9036 - val_loss: 0.1924 - val_accuracy: 0.9434 - lr: 5.0000e-04\n"
     ]
    }
   ],
   "source": [
    "# Train the model\n",
    "history = cnn_model.fit(\n",
    "    train_data,\n",
    "    steps_per_epoch=train_data.samples // BATCH_SIZE,\n",
    "    epochs=15,\n",
    "    validation_data=pv_test_seen_data,\n",
    "    validation_steps=pv_test_seen_data.samples // BATCH_SIZE,\n",
    "    callbacks=[reduce_lr, early_stop]\n",
    ")"
   ]
  },
  {
   "cell_type": "code",
   "execution_count": 18,
   "metadata": {},
   "outputs": [
    {
     "name": "stdout",
     "output_type": "stream",
     "text": [
      "7/7 [==============================] - 1s 148ms/step - loss: 381.4115 - accuracy: 0.0512\n",
      "PlantVillage Unseen Test Set Accuracy: 0.0512\n"
     ]
    }
   ],
   "source": [
    "# Evaluate on PV Unseen Test Set\n",
    "pv_test_unseen_data.reset()\n",
    "pv_unseen_loss, pv_unseen_accuracy = cnn_model.evaluate(pv_test_unseen_data)\n",
    "print(f\"PlantVillage Unseen Test Set Accuracy: {pv_unseen_accuracy:.4f}\")"
   ]
  },
  {
   "cell_type": "code",
   "execution_count": 19,
   "metadata": {},
   "outputs": [
    {
     "name": "stdout",
     "output_type": "stream",
     "text": [
      "Evaluating on PV Seen Test Set:\n",
      "322/322 [==============================] - 24s 75ms/step - loss: 0.1925 - accuracy: 0.9434\n",
      "PlantVillage Seen Test Set Accuracy: 0.9434\n"
     ]
    }
   ],
   "source": [
    "# Evaluation\n",
    "print(\"Evaluating on PV Seen Test Set:\")\n",
    "pv_seen_loss, pv_seen_accuracy = cnn_model.evaluate(pv_test_seen_data)\n",
    "print(f\"PlantVillage Seen Test Set Accuracy: {pv_seen_accuracy:.4f}\")"
   ]
  },
  {
   "cell_type": "code",
   "execution_count": 20,
   "metadata": {},
   "outputs": [
    {
     "name": "stdout",
     "output_type": "stream",
     "text": [
      "3/3 [==============================] - 1s 277ms/step - loss: 487.8946 - accuracy: 0.0571\n",
      "PlantDoc Unseen Test Set Accuracy: 0.0571\n"
     ]
    }
   ],
   "source": [
    "# Evaluate on PD Unseen Test Set\n",
    "pd_test_unseen_data.reset()\n",
    "pd_unseen_loss, pd_unseen_accuracy = cnn_model.evaluate(pd_test_unseen_data)\n",
    "print(f\"PlantDoc Unseen Test Set Accuracy: {pd_unseen_accuracy:.4f}\")"
   ]
  },
  {
   "cell_type": "code",
   "execution_count": 21,
   "metadata": {},
   "outputs": [
    {
     "name": "stdout",
     "output_type": "stream",
     "text": [
      "Harmonic Mean Accuracy between Seen and Unseen: 0.0971\n"
     ]
    }
   ],
   "source": [
    "# Harmonic Mean Calculation\n",
    "harmonic_mean_accuracy = 2 * (pv_seen_accuracy * pv_unseen_accuracy) / (pv_seen_accuracy + pv_unseen_accuracy)\n",
    "print(f\"Harmonic Mean Accuracy between Seen and Unseen: {harmonic_mean_accuracy:.4f}\")"
   ]
  },
  {
   "cell_type": "code",
   "execution_count": 22,
   "metadata": {},
   "outputs": [],
   "source": [
    "# Top-N accuracy calculation function\n",
    "def top_n_accuracy(predictions, true_labels, n=5):\n",
    "    top_n_preds = np.argsort(predictions, axis=1)[:, -n:]\n",
    "    return np.mean([true_labels[i] in top_n_preds[i] for i in range(len(true_labels))])"
   ]
  },
  {
   "cell_type": "code",
   "execution_count": 23,
   "metadata": {},
   "outputs": [
    {
     "name": "stdout",
     "output_type": "stream",
     "text": [
      "7/7 [==============================] - 1s 64ms/step\n"
     ]
    }
   ],
   "source": [
    "# Predict and evaluate Top-1 and Top-5 accuracies\n",
    "pv_test_unseen_data.reset()\n",
    "predictions = cnn_model.predict(pv_test_unseen_data, steps=pv_test_unseen_data.samples // BATCH_SIZE + 1)\n",
    "predicted_classes = predictions.argmax(axis=1)\n",
    "true_classes = pv_test_unseen_data.classes"
   ]
  },
  {
   "cell_type": "code",
   "execution_count": 24,
   "metadata": {},
   "outputs": [
    {
     "name": "stdout",
     "output_type": "stream",
     "text": [
      "Top-1 Accuracy: 0.0512\n",
      "Top-5 Accuracy: 0.4000\n"
     ]
    }
   ],
   "source": [
    "top_1_accuracy = top_n_accuracy(predictions, true_classes, n=1)\n",
    "top_5_accuracy = top_n_accuracy(predictions, true_classes, n=5)\n",
    "print(f\"Top-1 Accuracy: {top_1_accuracy:.4f}\")\n",
    "print(f\"Top-5 Accuracy: {top_5_accuracy:.4f}\")"
   ]
  },
  {
   "cell_type": "code",
   "execution_count": 25,
   "metadata": {},
   "outputs": [
    {
     "data": {
      "image/png": "[encoded data removed]",
      "text/plain": [
       "<Figure size 1000x600 with 1 Axes>"
      ]
     },
     "metadata": {},
     "output_type": "display_data"
    }
   ],
   "source": [
    "# Plot training and validation accuracy\n",
    "plt.figure(figsize=(10, 6))\n",
    "plt.plot(history.history['accuracy'], label='Training Accuracy')\n",
    "plt.plot(history.history['val_accuracy'], label='Validation Accuracy')\n",
    "plt.xlabel('Epoch')\n",
    "plt.ylabel('Accuracy')\n",
    "plt.title('Training and Validation Accuracy Over Epochs')\n",
    "plt.legend()\n",
    "plt.show()"
   ]
  }
 ],
 "metadata": {
  "kernelspec": {
   "display_name": "tf_env",
   "language": "python",
   "name": "python3"
  },
  "language_info": {
   "codemirror_mode": {
    "name": "ipython",
    "version": 3
   },
   "file_extension": ".py",
   "mimetype": "text/x-python",
   "name": "python",
   "nbconvert_exporter": "python",
   "pygments_lexer": "ipython3",
   "version": "3.10.14"
  }
 },
 "nbformat": 4,
 "nbformat_minor": 2
}
