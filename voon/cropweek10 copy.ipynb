{
 "cells": [
  {
   "cell_type": "code",
   "execution_count": 1,
   "metadata": {},
   "outputs": [
    {
     "name": "stderr",
     "output_type": "stream",
     "text": [
      "2024-11-12 12:17:50.851390: I tensorflow/core/util/port.cc:153] oneDNN custom operations are on. You may see slightly different numerical results due to floating-point round-off errors from different computation orders. To turn them off, set the environment variable `TF_ENABLE_ONEDNN_OPTS=0`.\n",
      "2024-11-12 12:17:51.071793: E external/local_xla/xla/stream_executor/cuda/cuda_fft.cc:485] Unable to register cuFFT factory: Attempting to register factory for plugin cuFFT when one has already been registered\n",
      "2024-11-12 12:17:51.197030: E external/local_xla/xla/stream_executor/cuda/cuda_dnn.cc:8454] Unable to register cuDNN factory: Attempting to register factory for plugin cuDNN when one has already been registered\n",
      "2024-11-12 12:17:51.224381: E external/local_xla/xla/stream_executor/cuda/cuda_blas.cc:1452] Unable to register cuBLAS factory: Attempting to register factory for plugin cuBLAS when one has already been registered\n",
      "2024-11-12 12:17:51.371101: I tensorflow/core/platform/cpu_feature_guard.cc:210] This TensorFlow binary is optimized to use available CPU instructions in performance-critical operations.\n",
      "To enable the following instructions: AVX2 AVX_VNNI FMA, in other operations, rebuild TensorFlow with the appropriate compiler flags.\n",
      "2024-11-12 12:17:52.995267: W tensorflow/compiler/tf2tensorrt/utils/py_utils.cc:38] TF-TRT Warning: Could not find TensorRT\n"
     ]
    }
   ],
   "source": [
    "import tensorflow as tf\n",
    "from tensorflow.keras.models import Sequential\n",
    "from tensorflow.keras.layers import Dense, Dropout, GlobalAveragePooling2D, BatchNormalization\n",
    "from tensorflow.keras.preprocessing.image import ImageDataGenerator\n",
    "from sklearn.metrics import classification_report, confusion_matrix\n",
    "import pandas as pd\n",
    "import numpy as np\n",
    "import matplotlib.pyplot as plt\n",
    "from tensorflow.keras.callbacks import ReduceLROnPlateau, EarlyStopping"
   ]
  },
  {
   "cell_type": "code",
   "execution_count": 2,
   "metadata": {},
   "outputs": [],
   "source": [
    "# Define paths to metadata files and image directories\n",
    "train_metadata_path = '/home/raymondvoong/aml/datasetass2/PV train.csv'\n",
    "test_seen_metadata_path = '/home/raymondvoong/aml/datasetass2/PV test seen.csv'\n",
    "test_unseen_metadata_path = '/home/raymondvoong/aml/datasetass2/PV test unseen.csv'\n",
    "pd_test_unseen_metadata_path = '/home/raymondvoong/aml/datasetass2/PD test unseen.csv'\n"
   ]
  },
  {
   "cell_type": "code",
   "execution_count": 3,
   "metadata": {},
   "outputs": [],
   "source": [
    "plantvillage_dir = '/home/raymondvoong/aml/datasetass2/plantvillage'\n",
    "plantdoc_dir = '/home/raymondvoong/aml/datasetass2/plantdoc'"
   ]
  },
  {
   "cell_type": "code",
   "execution_count": 4,
   "metadata": {},
   "outputs": [],
   "source": [
    "# Define image dimensions\n",
    "IMG_HEIGHT = 299\n",
    "IMG_WIDTH = 299\n",
    "IMG_CHANNELS = 3  # RGB images\n",
    "BATCH_SIZE = 32"
   ]
  },
  {
   "cell_type": "code",
   "execution_count": 5,
   "metadata": {},
   "outputs": [],
   "source": [
    "# Load the metadata for training and testing\n",
    "train_metadata = pd.read_csv(train_metadata_path)\n",
    "test_seen_metadata = pd.read_csv(test_seen_metadata_path)\n",
    "test_unseen_metadata = pd.read_csv(test_unseen_metadata_path)\n",
    "pd_test_unseen_metadata = pd.read_csv(pd_test_unseen_metadata_path)"
   ]
  },
  {
   "cell_type": "code",
   "execution_count": 6,
   "metadata": {},
   "outputs": [],
   "source": [
    "# Rename columns to make them consistent\n",
    "train_metadata.columns = ['image_file_name', 'crop_category', 'disease_category']\n",
    "test_seen_metadata.columns = ['image_file_name', 'crop_category', 'disease_category']\n",
    "test_unseen_metadata.columns = ['image_file_name', 'crop_category', 'disease_category']\n",
    "pd_test_unseen_metadata.columns = ['image_file_name', 'crop_category', 'disease_category']\n"
   ]
  },
  {
   "cell_type": "code",
   "execution_count": 7,
   "metadata": {},
   "outputs": [],
   "source": [
    "# Use only the crop category as the label for classification\n",
    "train_metadata['label'] = train_metadata['crop_category'].astype(str)\n",
    "test_seen_metadata['label'] = test_seen_metadata['crop_category'].astype(str)\n",
    "test_unseen_metadata['label'] = test_unseen_metadata['crop_category'].astype(str)\n",
    "pd_test_unseen_metadata['label'] = pd_test_unseen_metadata['crop_category'].astype(str)"
   ]
  },
  {
   "cell_type": "code",
   "execution_count": 8,
   "metadata": {},
   "outputs": [],
   "source": [
    "# Data Augmentation for Training Data\n",
    "train_data_gen = ImageDataGenerator(\n",
    "    rescale=1.0 / 255.0,\n",
    "    rotation_range=30,\n",
    "    width_shift_range=0.2,\n",
    "    height_shift_range=0.2,\n",
    "    shear_range=0.2,\n",
    "    zoom_range=0.2,\n",
    "    brightness_range=[0.7, 1.3],\n",
    "    horizontal_flip=True,\n",
    "    fill_mode='nearest'\n",
    ")"
   ]
  },
  {
   "cell_type": "code",
   "execution_count": 9,
   "metadata": {},
   "outputs": [],
   "source": [
    "# Testing Data Generator (only rescale, no augmentation)\n",
    "test_data_gen = ImageDataGenerator(rescale=1.0 / 255.0)"
   ]
  },
  {
   "cell_type": "code",
   "execution_count": 10,
   "metadata": {},
   "outputs": [],
   "source": [
    "# Function to generate data from a DataFrame\n",
    "def dataframe_generator(df, base_dir, target_size, batch_size, data_gen, class_mode, label_column):\n",
    "    return data_gen.flow_from_dataframe(\n",
    "        dataframe=df,\n",
    "        directory=base_dir,\n",
    "        x_col='image_file_name',\n",
    "        y_col=label_column,\n",
    "        target_size=target_size,\n",
    "        batch_size=batch_size,\n",
    "        class_mode=class_mode,\n",
    "        shuffle=True\n",
    "    )"
   ]
  },
  {
   "cell_type": "code",
   "execution_count": 11,
   "metadata": {},
   "outputs": [
    {
     "name": "stdout",
     "output_type": "stream",
     "text": [
      "Found 38993 validated image filenames belonging to 14 classes.\n",
      "Found 10278 validated image filenames belonging to 14 classes.\n",
      "Found 215 validated image filenames belonging to 1 classes.\n",
      "Found 70 validated image filenames belonging to 1 classes.\n"
     ]
    }
   ],
   "source": [
    "# Generate training and testing data\n",
    "train_data = dataframe_generator(train_metadata, plantvillage_dir, (IMG_HEIGHT, IMG_WIDTH), BATCH_SIZE, train_data_gen, 'categorical', 'label')\n",
    "pv_test_seen_data = dataframe_generator(test_seen_metadata, plantvillage_dir, (IMG_HEIGHT, IMG_WIDTH), BATCH_SIZE, test_data_gen, 'categorical', 'label')\n",
    "pv_test_unseen_data = dataframe_generator(test_unseen_metadata, plantvillage_dir, (IMG_HEIGHT, IMG_WIDTH), BATCH_SIZE, test_data_gen, 'categorical', 'label')\n",
    "pd_test_unseen_data = dataframe_generator(pd_test_unseen_metadata, plantdoc_dir, (IMG_HEIGHT, IMG_WIDTH), BATCH_SIZE, test_data_gen, 'categorical', 'label')"
   ]
  },
  {
   "cell_type": "code",
   "execution_count": 12,
   "metadata": {},
   "outputs": [],
   "source": [
    "# Define the number of classes\n",
    "num_classes = len(train_data.class_indices)"
   ]
  },
  {
   "cell_type": "code",
   "execution_count": 13,
   "metadata": {},
   "outputs": [],
   "source": [
    "# Section 4: Model Construction and Compilation (Updated)\n",
    "\n",
    "from tensorflow.keras import Sequential, Input\n",
    "from tensorflow.keras.layers import Conv2D, MaxPooling2D, Flatten, Dense, Dropout\n",
    "from tensorflow.keras.optimizers import Adam\n",
    "from tensorflow.keras.callbacks import ModelCheckpoint, EarlyStopping\n",
    "# Define the CNN model architecture\n",
    "def build_cnn_model(input_shape=(299, 299, 3), num_classes=num_classes):\n",
    "    model = Sequential([\n",
    "        Input(shape=input_shape),\n",
    "        Conv2D(32, (3, 3), activation='relu'),\n",
    "        MaxPooling2D(pool_size=(2, 2)),\n",
    "        Conv2D(64, (3, 3), activation='relu'),\n",
    "        MaxPooling2D(pool_size=(2, 2)),\n",
    "        Conv2D(128, (3, 3), activation='relu'),\n",
    "        MaxPooling2D(pool_size=(2, 2)),\n",
    "        Flatten(),\n",
    "        Dense(256, activation='relu'),\n",
    "        Dropout(0.5),\n",
    "        Dense(num_classes, activation='softmax')\n",
    "    ])\n",
    "    return model"
   ]
  },
  {
   "cell_type": "code",
   "execution_count": 14,
   "metadata": {},
   "outputs": [
    {
     "name": "stderr",
     "output_type": "stream",
     "text": [
      "WARNING: All log messages before absl::InitializeLog() is called are written to STDERR\n",
      "I0000 00:00:1731385080.140593   12679 cuda_executor.cc:1001] could not open file to read NUMA node: /sys/bus/pci/devices/0000:01:00.0/numa_node\n",
      "Your kernel may have been built without NUMA support.\n",
      "I0000 00:00:1731385080.904341   12679 cuda_executor.cc:1001] could not open file to read NUMA node: /sys/bus/pci/devices/0000:01:00.0/numa_node\n",
      "Your kernel may have been built without NUMA support.\n",
      "I0000 00:00:1731385080.904470   12679 cuda_executor.cc:1001] could not open file to read NUMA node: /sys/bus/pci/devices/0000:01:00.0/numa_node\n",
      "Your kernel may have been built without NUMA support.\n",
      "I0000 00:00:1731385080.922648   12679 cuda_executor.cc:1001] could not open file to read NUMA node: /sys/bus/pci/devices/0000:01:00.0/numa_node\n",
      "Your kernel may have been built without NUMA support.\n",
      "I0000 00:00:1731385080.922742   12679 cuda_executor.cc:1001] could not open file to read NUMA node: /sys/bus/pci/devices/0000:01:00.0/numa_node\n",
      "Your kernel may have been built without NUMA support.\n",
      "I0000 00:00:1731385080.922756   12679 cuda_executor.cc:1001] could not open file to read NUMA node: /sys/bus/pci/devices/0000:01:00.0/numa_node\n",
      "Your kernel may have been built without NUMA support.\n",
      "I0000 00:00:1731385081.445548   12679 cuda_executor.cc:1001] could not open file to read NUMA node: /sys/bus/pci/devices/0000:01:00.0/numa_node\n",
      "Your kernel may have been built without NUMA support.\n",
      "I0000 00:00:1731385081.445736   12679 cuda_executor.cc:1001] could not open file to read NUMA node: /sys/bus/pci/devices/0000:01:00.0/numa_node\n",
      "Your kernel may have been built without NUMA support.\n",
      "2024-11-12 12:18:01.445754: I tensorflow/core/common_runtime/gpu/gpu_device.cc:2112] Could not identify NUMA node of platform GPU id 0, defaulting to 0.  Your kernel may not have been built with NUMA support.\n",
      "I0000 00:00:1731385081.445915   12679 cuda_executor.cc:1001] could not open file to read NUMA node: /sys/bus/pci/devices/0000:01:00.0/numa_node\n",
      "Your kernel may have been built without NUMA support.\n",
      "2024-11-12 12:18:01.446377: I tensorflow/core/common_runtime/gpu/gpu_device.cc:2021] Created device /job:localhost/replica:0/task:0/device:GPU:0 with 5520 MB memory:  -> device: 0, name: NVIDIA GeForce RTX 4070 Laptop GPU, pci bus id: 0000:01:00.0, compute capability: 8.9\n"
     ]
    }
   ],
   "source": [
    "# Initialize and compile the model\n",
    "cnn_model = build_cnn_model(input_shape=(299, 299, 3), num_classes=num_classes)\n",
    "cnn_model.compile(optimizer=tf.keras.optimizers.Adam(0.001), \n",
    "                  loss='categorical_crossentropy', \n",
    "                  metrics=['accuracy'])"
   ]
  },
  {
   "cell_type": "code",
   "execution_count": 15,
   "metadata": {},
   "outputs": [],
   "source": [
    "# Callbacks for learning rate adjustment and early stopping\n",
    "reduce_lr = ReduceLROnPlateau(monitor='val_loss', factor=0.5, patience=2, min_lr=1e-7, verbose=1)\n",
    "early_stop = EarlyStopping(monitor='val_loss', patience=4, restore_best_weights=True)\n"
   ]
  },
  {
   "cell_type": "code",
   "execution_count": 16,
   "metadata": {},
   "outputs": [
    {
     "name": "stderr",
     "output_type": "stream",
     "text": [
      "/home/raymondvoong/aml/.venv/lib/python3.12/site-packages/keras/src/trainers/data_adapters/py_dataset_adapter.py:121: UserWarning: Your `PyDataset` class should call `super().__init__(**kwargs)` in its constructor. `**kwargs` can include `workers`, `use_multiprocessing`, `max_queue_size`. Do not pass these arguments to `fit()`, as they will be ignored.\n",
      "  self._warn_if_super_not_called()\n"
     ]
    },
    {
     "name": "stdout",
     "output_type": "stream",
     "text": [
      "Epoch 1/15\n"
     ]
    },
    {
     "name": "stderr",
     "output_type": "stream",
     "text": [
      "WARNING: All log messages before absl::InitializeLog() is called are written to STDERR\n",
      "I0000 00:00:1731385095.407536   12797 service.cc:146] XLA service 0x7f6b70016480 initialized for platform CUDA (this does not guarantee that XLA will be used). Devices:\n",
      "I0000 00:00:1731385095.408042   12797 service.cc:154]   StreamExecutor device (0): NVIDIA GeForce RTX 4070 Laptop GPU, Compute Capability 8.9\n",
      "2024-11-12 12:18:15.489509: I tensorflow/compiler/mlir/tensorflow/utils/dump_mlir_util.cc:268] disabling MLIR crash reproducer, set env var `MLIR_CRASH_REPRODUCER_DIRECTORY` to enable.\n",
      "2024-11-12 12:18:15.884596: I external/local_xla/xla/stream_executor/cuda/cuda_dnn.cc:531] Loaded cuDNN version 8907\n"
     ]
    },
    {
     "name": "stdout",
     "output_type": "stream",
     "text": [
      "\u001b[1m   2/1218\u001b[0m \u001b[37m━━━━━━━━━━━━━━━━━━━━\u001b[0m \u001b[1m1:02\u001b[0m 51ms/step - accuracy: 0.0859 - loss: 3.8514  "
     ]
    },
    {
     "name": "stderr",
     "output_type": "stream",
     "text": [
      "I0000 00:00:1731385103.482380   12797 device_compiler.h:188] Compiled cluster using XLA!  This line is logged at most once for the lifetime of the process.\n"
     ]
    },
    {
     "name": "stdout",
     "output_type": "stream",
     "text": [
      "\u001b[1m1218/1218\u001b[0m \u001b[32m━━━━━━━━━━━━━━━━━━━━\u001b[0m\u001b[37m\u001b[0m \u001b[1m420s\u001b[0m 336ms/step - accuracy: 0.4936 - loss: 1.6731 - val_accuracy: 0.7821 - val_loss: 0.6697 - learning_rate: 0.0010\n",
      "Epoch 2/15\n",
      "\u001b[1m   1/1218\u001b[0m \u001b[37m━━━━━━━━━━━━━━━━━━━━\u001b[0m \u001b[1m3:38\u001b[0m 179ms/step - accuracy: 0.6875 - loss: 0.9511"
     ]
    },
    {
     "name": "stderr",
     "output_type": "stream",
     "text": [
      "2024-11-12 12:25:11.987674: I tensorflow/core/framework/local_rendezvous.cc:404] Local rendezvous is aborting with status: OUT_OF_RANGE: End of sequence\n",
      "\t [[{{node IteratorGetNext}}]]\n",
      "2024-11-12 12:25:11.987717: I tensorflow/core/framework/local_rendezvous.cc:404] Local rendezvous is aborting with status: OUT_OF_RANGE: End of sequence\n",
      "\t [[{{node IteratorGetNext}}]]\n",
      "\t [[IteratorGetNext/_4]]\n",
      "2024-11-12 12:25:11.987729: I tensorflow/core/framework/local_rendezvous.cc:423] Local rendezvous recv item cancelled. Key hash: 1780953327168491790\n",
      "2024-11-12 12:25:11.987745: I tensorflow/core/framework/local_rendezvous.cc:423] Local rendezvous recv item cancelled. Key hash: 18212596753205999122\n",
      "/usr/lib/python3.12/contextlib.py:158: UserWarning: Your input ran out of data; interrupting training. Make sure that your dataset or generator can generate at least `steps_per_epoch * epochs` batches. You may need to use the `.repeat()` function when building your dataset.\n",
      "  self.gen.throw(value)\n"
     ]
    },
    {
     "name": "stdout",
     "output_type": "stream",
     "text": [
      "\u001b[1m1218/1218\u001b[0m \u001b[32m━━━━━━━━━━━━━━━━━━━━\u001b[0m\u001b[37m\u001b[0m \u001b[1m1s\u001b[0m 915us/step - accuracy: 0.6875 - loss: 0.9511 - val_accuracy: 0.6667 - val_loss: 0.7641 - learning_rate: 0.0010\n",
      "Epoch 3/15\n"
     ]
    },
    {
     "name": "stderr",
     "output_type": "stream",
     "text": [
      "2024-11-12 12:25:13.264558: I tensorflow/core/framework/local_rendezvous.cc:404] Local rendezvous is aborting with status: OUT_OF_RANGE: End of sequence\n",
      "\t [[{{node IteratorGetNext}}]]\n",
      "\t [[IteratorGetNext/_4]]\n",
      "2024-11-12 12:25:13.264604: I tensorflow/core/framework/local_rendezvous.cc:423] Local rendezvous recv item cancelled. Key hash: 1780953327168491790\n",
      "2024-11-12 12:25:13.264620: I tensorflow/core/framework/local_rendezvous.cc:423] Local rendezvous recv item cancelled. Key hash: 18212596753205999122\n"
     ]
    },
    {
     "name": "stdout",
     "output_type": "stream",
     "text": [
      "\u001b[1m1218/1218\u001b[0m \u001b[32m━━━━━━━━━━━━━━━━━━━━\u001b[0m\u001b[37m\u001b[0m \u001b[1m415s\u001b[0m 341ms/step - accuracy: 0.7107 - loss: 0.8811 - val_accuracy: 0.8385 - val_loss: 0.4960 - learning_rate: 0.0010\n",
      "Epoch 4/15\n",
      "\u001b[1m1218/1218\u001b[0m \u001b[32m━━━━━━━━━━━━━━━━━━━━\u001b[0m\u001b[37m\u001b[0m \u001b[1m0s\u001b[0m 21us/step - accuracy: 0.7812 - loss: 0.6280 - val_accuracy: 0.6667 - val_loss: 1.4222 - learning_rate: 0.0010\n",
      "Epoch 5/15\n"
     ]
    },
    {
     "name": "stderr",
     "output_type": "stream",
     "text": [
      "2024-11-12 12:32:08.366807: I tensorflow/core/framework/local_rendezvous.cc:423] Local rendezvous recv item cancelled. Key hash: 1780953327168491790\n",
      "2024-11-12 12:32:08.366862: I tensorflow/core/framework/local_rendezvous.cc:423] Local rendezvous recv item cancelled. Key hash: 18212596753205999122\n",
      "2024-11-12 12:32:08.536001: I tensorflow/core/framework/local_rendezvous.cc:404] Local rendezvous is aborting with status: OUT_OF_RANGE: End of sequence\n",
      "\t [[{{node IteratorGetNext}}]]\n",
      "\t [[IteratorGetNext/_4]]\n",
      "2024-11-12 12:32:08.536049: I tensorflow/core/framework/local_rendezvous.cc:423] Local rendezvous recv item cancelled. Key hash: 1780953327168491790\n",
      "2024-11-12 12:32:08.536068: I tensorflow/core/framework/local_rendezvous.cc:423] Local rendezvous recv item cancelled. Key hash: 18212596753205999122\n"
     ]
    },
    {
     "name": "stdout",
     "output_type": "stream",
     "text": [
      "\u001b[1m1218/1218\u001b[0m \u001b[32m━━━━━━━━━━━━━━━━━━━━\u001b[0m\u001b[37m\u001b[0m \u001b[1m402s\u001b[0m 330ms/step - accuracy: 0.7696 - loss: 0.7144 - val_accuracy: 0.8833 - val_loss: 0.3627 - learning_rate: 0.0010\n",
      "Epoch 6/15\n",
      "\u001b[1m1218/1218\u001b[0m \u001b[32m━━━━━━━━━━━━━━━━━━━━\u001b[0m\u001b[37m\u001b[0m \u001b[1m0s\u001b[0m 14us/step - accuracy: 1.0000 - loss: 0.2557 - val_accuracy: 0.8333 - val_loss: 0.6378 - learning_rate: 0.0010\n"
     ]
    },
    {
     "name": "stderr",
     "output_type": "stream",
     "text": [
      "2024-11-12 12:38:50.296593: I tensorflow/core/framework/local_rendezvous.cc:423] Local rendezvous recv item cancelled. Key hash: 1780953327168491790\n",
      "2024-11-12 12:38:50.296660: I tensorflow/core/framework/local_rendezvous.cc:423] Local rendezvous recv item cancelled. Key hash: 18212596753205999122\n",
      "2024-11-12 12:38:50.483397: I tensorflow/core/framework/local_rendezvous.cc:423] Local rendezvous recv item cancelled. Key hash: 1780953327168491790\n",
      "2024-11-12 12:38:50.483444: I tensorflow/core/framework/local_rendezvous.cc:423] Local rendezvous recv item cancelled. Key hash: 18212596753205999122\n"
     ]
    },
    {
     "name": "stdout",
     "output_type": "stream",
     "text": [
      "Epoch 7/15\n",
      "\u001b[1m1218/1218\u001b[0m \u001b[32m━━━━━━━━━━━━━━━━━━━━\u001b[0m\u001b[37m\u001b[0m \u001b[1m398s\u001b[0m 327ms/step - accuracy: 0.8065 - loss: 0.5996 - val_accuracy: 0.9075 - val_loss: 0.2708 - learning_rate: 0.0010\n",
      "Epoch 8/15\n",
      "\u001b[1m   1/1218\u001b[0m \u001b[37m━━━━━━━━━━━━━━━━━━━━\u001b[0m \u001b[1m4:20\u001b[0m 214ms/step - accuracy: 0.9062 - loss: 0.4190"
     ]
    },
    {
     "name": "stderr",
     "output_type": "stream",
     "text": [
      "2024-11-12 12:45:28.674537: I tensorflow/core/framework/local_rendezvous.cc:423] Local rendezvous recv item cancelled. Key hash: 1780953327168491790\n",
      "2024-11-12 12:45:28.674601: I tensorflow/core/framework/local_rendezvous.cc:423] Local rendezvous recv item cancelled. Key hash: 18212596753205999122\n",
      "2024-11-12 12:45:28.882728: I tensorflow/core/framework/local_rendezvous.cc:404] Local rendezvous is aborting with status: OUT_OF_RANGE: End of sequence\n",
      "\t [[{{node IteratorGetNext}}]]\n",
      "\t [[IteratorGetNext/_4]]\n",
      "2024-11-12 12:45:28.882765: I tensorflow/core/framework/local_rendezvous.cc:423] Local rendezvous recv item cancelled. Key hash: 1780953327168491790\n",
      "2024-11-12 12:45:28.882783: I tensorflow/core/framework/local_rendezvous.cc:423] Local rendezvous recv item cancelled. Key hash: 18212596753205999122\n"
     ]
    },
    {
     "name": "stdout",
     "output_type": "stream",
     "text": [
      "\u001b[1m1218/1218\u001b[0m \u001b[32m━━━━━━━━━━━━━━━━━━━━\u001b[0m\u001b[37m\u001b[0m \u001b[1m2s\u001b[0m 1ms/step - accuracy: 0.9062 - loss: 0.4190 - val_accuracy: 0.8333 - val_loss: 0.2262 - learning_rate: 0.0010\n",
      "Epoch 9/15\n",
      "\u001b[1m1218/1218\u001b[0m \u001b[32m━━━━━━━━━━━━━━━━━━━━\u001b[0m\u001b[37m\u001b[0m \u001b[1m402s\u001b[0m 330ms/step - accuracy: 0.8343 - loss: 0.5086 - val_accuracy: 0.9213 - val_loss: 0.2456 - learning_rate: 0.0010\n",
      "Epoch 10/15\n",
      "\u001b[1m   1/1218\u001b[0m \u001b[37m━━━━━━━━━━━━━━━━━━━━\u001b[0m \u001b[1m1:21\u001b[0m 67ms/step - accuracy: 0.9062 - loss: 0.2787\n",
      "Epoch 10: ReduceLROnPlateau reducing learning rate to 0.0005000000237487257.\n",
      "\u001b[1m1218/1218\u001b[0m \u001b[32m━━━━━━━━━━━━━━━━━━━━\u001b[0m\u001b[37m\u001b[0m \u001b[1m0s\u001b[0m 11us/step - accuracy: 0.9062 - loss: 0.2787 - val_accuracy: 0.8333 - val_loss: 0.4900 - learning_rate: 0.0010\n",
      "Epoch 11/15\n"
     ]
    },
    {
     "name": "stderr",
     "output_type": "stream",
     "text": [
      "2024-11-12 12:52:12.053159: I tensorflow/core/framework/local_rendezvous.cc:423] Local rendezvous recv item cancelled. Key hash: 1780953327168491790\n",
      "2024-11-12 12:52:12.053216: I tensorflow/core/framework/local_rendezvous.cc:423] Local rendezvous recv item cancelled. Key hash: 18212596753205999122\n",
      "2024-11-12 12:52:12.117093: I tensorflow/core/framework/local_rendezvous.cc:423] Local rendezvous recv item cancelled. Key hash: 1780953327168491790\n",
      "2024-11-12 12:52:12.117146: I tensorflow/core/framework/local_rendezvous.cc:423] Local rendezvous recv item cancelled. Key hash: 18212596753205999122\n"
     ]
    },
    {
     "name": "stdout",
     "output_type": "stream",
     "text": [
      "\u001b[1m1218/1218\u001b[0m \u001b[32m━━━━━━━━━━━━━━━━━━━━\u001b[0m\u001b[37m\u001b[0m \u001b[1m397s\u001b[0m 326ms/step - accuracy: 0.8772 - loss: 0.3747 - val_accuracy: 0.9392 - val_loss: 0.2047 - learning_rate: 5.0000e-04\n",
      "Epoch 12/15\n",
      "\u001b[1m   1/1218\u001b[0m \u001b[37m━━━━━━━━━━━━━━━━━━━━\u001b[0m \u001b[1m3:52\u001b[0m 191ms/step - accuracy: 0.9062 - loss: 0.3229"
     ]
    },
    {
     "name": "stderr",
     "output_type": "stream",
     "text": [
      "2024-11-12 12:58:48.953779: I tensorflow/core/framework/local_rendezvous.cc:423] Local rendezvous recv item cancelled. Key hash: 1780953327168491790\n",
      "2024-11-12 12:58:48.954432: I tensorflow/core/framework/local_rendezvous.cc:423] Local rendezvous recv item cancelled. Key hash: 18212596753205999122\n",
      "2024-11-12 12:58:49.139472: I tensorflow/core/framework/local_rendezvous.cc:423] Local rendezvous recv item cancelled. Key hash: 1780953327168491790\n",
      "2024-11-12 12:58:49.139521: I tensorflow/core/framework/local_rendezvous.cc:423] Local rendezvous recv item cancelled. Key hash: 18212596753205999122\n"
     ]
    },
    {
     "name": "stdout",
     "output_type": "stream",
     "text": [
      "\u001b[1m1218/1218\u001b[0m \u001b[32m━━━━━━━━━━━━━━━━━━━━\u001b[0m\u001b[37m\u001b[0m \u001b[1m1s\u001b[0m 519us/step - accuracy: 0.9062 - loss: 0.3229 - val_accuracy: 1.0000 - val_loss: 0.1217 - learning_rate: 5.0000e-04\n",
      "Epoch 13/15\n",
      "\u001b[1m1218/1218\u001b[0m \u001b[32m━━━━━━━━━━━━━━━━━━━━\u001b[0m\u001b[37m\u001b[0m \u001b[1m397s\u001b[0m 326ms/step - accuracy: 0.8893 - loss: 0.3368 - val_accuracy: 0.9427 - val_loss: 0.1906 - learning_rate: 5.0000e-04\n",
      "Epoch 14/15\n",
      "\u001b[1m   1/1218\u001b[0m \u001b[37m━━━━━━━━━━━━━━━━━━━━\u001b[0m \u001b[1m1:19\u001b[0m 65ms/step - accuracy: 0.7812 - loss: 0.6626"
     ]
    },
    {
     "name": "stderr",
     "output_type": "stream",
     "text": [
      "2024-11-12 13:05:26.601678: I tensorflow/core/framework/local_rendezvous.cc:423] Local rendezvous recv item cancelled. Key hash: 1780953327168491790\n",
      "2024-11-12 13:05:26.601731: I tensorflow/core/framework/local_rendezvous.cc:423] Local rendezvous recv item cancelled. Key hash: 18212596753205999122\n",
      "2024-11-12 13:05:26.663728: I tensorflow/core/framework/local_rendezvous.cc:423] Local rendezvous recv item cancelled. Key hash: 1780953327168491790\n",
      "2024-11-12 13:05:26.663787: I tensorflow/core/framework/local_rendezvous.cc:423] Local rendezvous recv item cancelled. Key hash: 18212596753205999122\n"
     ]
    },
    {
     "name": "stdout",
     "output_type": "stream",
     "text": [
      "\u001b[1m1218/1218\u001b[0m \u001b[32m━━━━━━━━━━━━━━━━━━━━\u001b[0m\u001b[37m\u001b[0m \u001b[1m2s\u001b[0m 1ms/step - accuracy: 0.7812 - loss: 0.6626 - val_accuracy: 1.0000 - val_loss: 0.0356 - learning_rate: 5.0000e-04\n",
      "Epoch 15/15\n",
      "\u001b[1m1218/1218\u001b[0m \u001b[32m━━━━━━━━━━━━━━━━━━━━\u001b[0m\u001b[37m\u001b[0m \u001b[1m396s\u001b[0m 325ms/step - accuracy: 0.8934 - loss: 0.3289 - val_accuracy: 0.9426 - val_loss: 0.1809 - learning_rate: 5.0000e-04\n"
     ]
    }
   ],
   "source": [
    "# Train the model\n",
    "history = cnn_model.fit(\n",
    "    train_data,\n",
    "    steps_per_epoch=train_data.samples // BATCH_SIZE,\n",
    "    epochs=15,\n",
    "    validation_data=pv_test_seen_data,\n",
    "    validation_steps=pv_test_seen_data.samples // BATCH_SIZE,\n",
    "    callbacks=[reduce_lr, early_stop]\n",
    ")"
   ]
  },
  {
   "cell_type": "code",
   "execution_count": 17,
   "metadata": {},
   "outputs": [
    {
     "name": "stderr",
     "output_type": "stream",
     "text": [
      "/home/raymondvoong/aml/.venv/lib/python3.12/site-packages/keras/src/trainers/data_adapters/py_dataset_adapter.py:121: UserWarning: Your `PyDataset` class should call `super().__init__(**kwargs)` in its constructor. `**kwargs` can include `workers`, `use_multiprocessing`, `max_queue_size`. Do not pass these arguments to `fit()`, as they will be ignored.\n",
      "  self._warn_if_super_not_called()\n"
     ]
    },
    {
     "name": "stdout",
     "output_type": "stream",
     "text": [
      "\u001b[1m7/7\u001b[0m \u001b[32m━━━━━━━━━━━━━━━━━━━━\u001b[0m\u001b[37m\u001b[0m \u001b[1m7s\u001b[0m 325ms/step - accuracy: 0.2945 - loss: 124.9409\n",
      "PlantVillage Unseen Test Set Accuracy: 0.2884\n"
     ]
    }
   ],
   "source": [
    "# Evaluate on PV Unseen Test Set\n",
    "pv_test_unseen_data.reset()\n",
    "pv_unseen_loss, pv_unseen_accuracy = cnn_model.evaluate(pv_test_unseen_data)\n",
    "print(f\"PlantVillage Unseen Test Set Accuracy: {pv_unseen_accuracy:.4f}\")"
   ]
  },
  {
   "cell_type": "code",
   "execution_count": 18,
   "metadata": {},
   "outputs": [
    {
     "name": "stdout",
     "output_type": "stream",
     "text": [
      "Evaluating on PV Seen Test Set:\n",
      "\u001b[1m322/322\u001b[0m \u001b[32m━━━━━━━━━━━━━━━━━━━━\u001b[0m\u001b[37m\u001b[0m \u001b[1m14s\u001b[0m 45ms/step - accuracy: 0.9366 - loss: 0.2102\n",
      "PlantVillage Seen Test Set Accuracy: 0.9405\n"
     ]
    }
   ],
   "source": [
    "# Evaluation\n",
    "print(\"Evaluating on PV Seen Test Set:\")\n",
    "pv_seen_loss, pv_seen_accuracy = cnn_model.evaluate(pv_test_seen_data)\n",
    "print(f\"PlantVillage Seen Test Set Accuracy: {pv_seen_accuracy:.4f}\")"
   ]
  },
  {
   "cell_type": "code",
   "execution_count": 19,
   "metadata": {},
   "outputs": [
    {
     "name": "stdout",
     "output_type": "stream",
     "text": [
      "\u001b[1m3/3\u001b[0m \u001b[32m━━━━━━━━━━━━━━━━━━━━\u001b[0m\u001b[37m\u001b[0m \u001b[1m1s\u001b[0m 545ms/step - accuracy: 0.0110 - loss: 192.3495\n",
      "PlantDoc Unseen Test Set Accuracy: 0.0143\n"
     ]
    }
   ],
   "source": [
    "# Evaluate on PD Unseen Test Set\n",
    "pd_test_unseen_data.reset()\n",
    "pd_unseen_loss, pd_unseen_accuracy = cnn_model.evaluate(pd_test_unseen_data)\n",
    "print(f\"PlantDoc Unseen Test Set Accuracy: {pd_unseen_accuracy:.4f}\")"
   ]
  },
  {
   "cell_type": "code",
   "execution_count": 20,
   "metadata": {},
   "outputs": [
    {
     "name": "stdout",
     "output_type": "stream",
     "text": [
      "Harmonic Mean Accuracy between Seen and Unseen: 0.4414\n"
     ]
    }
   ],
   "source": [
    "# Harmonic Mean Calculation\n",
    "harmonic_mean_accuracy = 2 * (pv_seen_accuracy * pv_unseen_accuracy) / (pv_seen_accuracy + pv_unseen_accuracy)\n",
    "print(f\"Harmonic Mean Accuracy between Seen and Unseen: {harmonic_mean_accuracy:.4f}\")"
   ]
  },
  {
   "cell_type": "code",
   "execution_count": 21,
   "metadata": {},
   "outputs": [],
   "source": [
    "# Top-N accuracy calculation function\n",
    "def top_n_accuracy(predictions, true_labels, n=5):\n",
    "    top_n_preds = np.argsort(predictions, axis=1)[:, -n:]\n",
    "    return np.mean([true_labels[i] in top_n_preds[i] for i in range(len(true_labels))])"
   ]
  },
  {
   "cell_type": "code",
   "execution_count": 22,
   "metadata": {},
   "outputs": [
    {
     "name": "stdout",
     "output_type": "stream",
     "text": [
      "\u001b[1m7/7\u001b[0m \u001b[32m━━━━━━━━━━━━━━━━━━━━\u001b[0m\u001b[37m\u001b[0m \u001b[1m1s\u001b[0m 99ms/step\n"
     ]
    }
   ],
   "source": [
    "# Predict and evaluate Top-1 and Top-5 accuracies\n",
    "pv_test_unseen_data.reset()\n",
    "predictions = cnn_model.predict(pv_test_unseen_data, steps=pv_test_unseen_data.samples // BATCH_SIZE + 1)\n",
    "predicted_classes = predictions.argmax(axis=1)\n",
    "true_classes = pv_test_unseen_data.classes"
   ]
  },
  {
   "cell_type": "code",
   "execution_count": 23,
   "metadata": {},
   "outputs": [
    {
     "name": "stdout",
     "output_type": "stream",
     "text": [
      "Top-1 Accuracy: 0.2884\n",
      "Top-5 Accuracy: 0.8930\n"
     ]
    }
   ],
   "source": [
    "top_1_accuracy = top_n_accuracy(predictions, true_classes, n=1)\n",
    "top_5_accuracy = top_n_accuracy(predictions, true_classes, n=5)\n",
    "print(f\"Top-1 Accuracy: {top_1_accuracy:.4f}\")\n",
    "print(f\"Top-5 Accuracy: {top_5_accuracy:.4f}\")"
   ]
  },
  {
   "cell_type": "code",
   "execution_count": 24,
   "metadata": {},
   "outputs": [
    {
     "data": {
      "image/png": "[encoded data removed]",
      "text/plain": [
       "<Figure size 1000x600 with 1 Axes>"
      ]
     },
     "metadata": {},
     "output_type": "display_data"
    }
   ],
   "source": [
    "# Plot training and validation accuracy\n",
    "plt.figure(figsize=(10, 6))\n",
    "plt.plot(history.history['accuracy'], label='Training Accuracy')\n",
    "plt.plot(history.history['val_accuracy'], label='Validation Accuracy')\n",
    "plt.xlabel('Epoch')\n",
    "plt.ylabel('Accuracy')\n",
    "plt.title('Training and Validation Accuracy Over Epochs')\n",
    "plt.legend()\n",
    "plt.show()"
   ]
  }
 ],
 "metadata": {
  "kernelspec": {
   "display_name": ".venv",
   "language": "python",
   "name": "python3"
  },
  "language_info": {
   "codemirror_mode": {
    "name": "ipython",
    "version": 3
   },
   "file_extension": ".py",
   "mimetype": "text/x-python",
   "name": "python",
   "nbconvert_exporter": "python",
   "pygments_lexer": "ipython3",
   "version": "3.12.3"
  }
 },
 "nbformat": 4,
 "nbformat_minor": 2
}
